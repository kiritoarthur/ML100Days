{
  "nbformat": 4,
  "nbformat_minor": 0,
  "metadata": {
    "kernelspec": {
      "display_name": "Python 3",
      "language": "python",
      "name": "python3"
    },
    "language_info": {
      "codemirror_mode": {
        "name": "ipython",
        "version": 3
      },
      "file_extension": ".py",
      "mimetype": "text/x-python",
      "name": "python",
      "nbconvert_exporter": "python",
      "pygments_lexer": "ipython3",
      "version": "3.6.5"
    },
    "colab": {
      "name": "Day001_HW.ipynb",
      "provenance": []
    }
  },
  "cells": [
    {
      "cell_type": "markdown",
      "metadata": {
        "id": "Ybj1XKcHWXsn"
      },
      "source": [
        "# 資料來源與檔案存取\n",
        "\n",
        "* 資料來源與取得\n",
        "* 開放資料\n",
        "* 資料儲存格式\n",
        "* Python 存取檔案"
      ]
    },
    {
      "cell_type": "markdown",
      "metadata": {
        "id": "AHzbvQoEWXso"
      },
      "source": [
        "## 作業目標\n",
        "\n",
        "* 1.（簡答題）檔案、API、爬蟲三種取得資料方式有什麼不同？\n",
        "* 2.（實作）完成一個程式，需滿足下列需求：\n",
        "    * 下載指定檔案到 Data 資料夾，存成檔名 Homework.txt\n",
        "    * 檢查 Data 資料夾是否有 Homework.txt 檔名之檔案\n",
        "    * 將「Hello World」字串覆寫到 Homework.txt 檔案\n",
        "    * 檢查 Homework.txt 檔案字數是否符合 Hello World 字數\n"
      ]
    },
    {
      "cell_type": "markdown",
      "metadata": {
        "id": "NpjN9P_VWXsp"
      },
      "source": [
        "### 1.（簡答題）檔案、API、爬蟲三種取得資料方式有什麼不同？"
      ]
    },
    {
      "cell_type": "markdown",
      "metadata": {
        "id": "tTuTJdTTWcje"
      },
      "source": [
        "檔案和開放接口(API)是由資料擁有者主動釋出，爬蟲資料則是資料擁有者被動公開。\n",
        "\n",
        "檔案: 資料會包成檔案提供下載，格式可能包含常用的標準格式，例如csv、json等通用的格式。\n",
        "\n",
        "開放接口(API): 提供程式化的連接的接口，讓工程師/分析師可以選擇資料中要讀取的特定部分，而不需要把整批資料事先完整下載回來。\n",
        "\n",
        "網頁爬蟲: 資料沒有以檔案或API提供，但出現在網頁上。可以利用爬蟲程式，將網頁的資料解析所需的部分。"
      ]
    },
    {
      "cell_type": "markdown",
      "metadata": {
        "id": "U22ZSVvSWXsp"
      },
      "source": [
        "### 2.（實作）完成一個程式，需滿足下列需求：\n",
        "    * 下載指定檔案到 Data 資料夾，存成檔名 Homework.txt\n",
        "    * 檢查 Data 資料夾是否有 Homework.txt 檔名之檔案\n",
        "    * 將「Hello World」字串覆寫到 Homework.txt 檔案\n",
        "    * 檢查 Homework.txt 檔案字數是否符合 Hello World 字數\n"
      ]
    },
    {
      "cell_type": "code",
      "metadata": {
        "id": "-2oAh5ndWXsp"
      },
      "source": [
        "# 根據需求引入正確的 Library\n",
        "\n",
        "from urllib.request import urlretrieve\n",
        "import os"
      ],
      "execution_count": 31,
      "outputs": []
    },
    {
      "cell_type": "code",
      "metadata": {
        "id": "Y3H31OZmWXsq",
        "colab": {
          "base_uri": "https://localhost:8080/"
        },
        "outputId": "fa8e7e21-30ce-4ce1-91d4-7dce458972c4"
      },
      "source": [
        "# 下載檔案到 Data 資料夾，存成檔名 Homework.txt\n",
        "\n",
        "file_path = \"./Data\"\n",
        "try:\n",
        "  os.makedirs( file_path, exist_ok=True )\n",
        "  urlretrieve(\"https://www.w3.org/TR/PNG/iso_8859-1.txt\", \"./Data/Homework.txt\")\n",
        "  print(\"下載成功\")\n",
        "\n",
        "except:\n",
        "  print('發生錯誤！')"
      ],
      "execution_count": 32,
      "outputs": [
        {
          "output_type": "stream",
          "text": [
            "下載成功\n"
          ],
          "name": "stdout"
        }
      ]
    },
    {
      "cell_type": "code",
      "metadata": {
        "id": "9xDhrslnWXsq",
        "colab": {
          "base_uri": "https://localhost:8080/"
        },
        "outputId": "81055d1a-2852-415b-8c7a-f9d37f999010"
      },
      "source": [
        "# 檢查 Data 資料夾是否有 Homework.txt 檔名之檔案\n",
        "\n",
        "files = []\n",
        "\n",
        "'''\n",
        "Your Code\n",
        "'''\n",
        "files = os.listdir(file_path)\n",
        "print(files)\n",
        "\n",
        "if 'Homework.txt' in files:\n",
        "  print('[O] 檢查 Data 資料夾是否有 Homework.txt 檔名之檔案')\n",
        "else:\n",
        "  print('[X] 檢查 Data 資料夾是否有 Homework.txt 檔名之檔案')"
      ],
      "execution_count": 33,
      "outputs": [
        {
          "output_type": "stream",
          "text": [
            "['Homework.txt']\n",
            "[O] 檢查 Data 資料夾是否有 Homework.txt 檔名之檔案\n"
          ],
          "name": "stdout"
        }
      ]
    },
    {
      "cell_type": "code",
      "metadata": {
        "id": "IpwC5wlLWXsr",
        "colab": {
          "base_uri": "https://localhost:8080/"
        },
        "outputId": "252017d3-ef03-41d4-d442-96c65d4457df"
      },
      "source": [
        "# 將「Hello World」字串覆寫到 Homework.txt 檔案\n",
        "\n",
        "f = ''\n",
        "\n",
        "with open(\"./Data/Homework.txt\", \"w\") as fh:\n",
        "    f = \"Hello World\"\n",
        "    fh.write(f)\n",
        "\n",
        "try:\n",
        "    with open(\"./Data/Homework.txt\", \"r\") as fh:\n",
        "      print(fh.read())\n",
        "except EnvironmentError: # parent of IOError, OSError *and* WindowsError where available\n",
        "    pass    \n",
        "    \n"
      ],
      "execution_count": 34,
      "outputs": [
        {
          "output_type": "stream",
          "text": [
            "Hello World\n"
          ],
          "name": "stdout"
        }
      ]
    },
    {
      "cell_type": "code",
      "metadata": {
        "scrolled": true,
        "id": "L_Ow4Tm9WXsr",
        "colab": {
          "base_uri": "https://localhost:8080/"
        },
        "outputId": "de7036f9-b6b0-45dd-87c1-8a775ac68294"
      },
      "source": [
        "# 檢查 Homework.txt 檔案字數是否符合 Hello World 字數\n",
        "\n",
        "if len('Hello World') == len(f):\n",
        "    print('[O] 檢查 Homework.txt 檔案字數是否符合 Hello World 字數')\n",
        "else:\n",
        "    print('[X] 檢查 Homework.txt 檔案字數是否符合 Hello World 字數')"
      ],
      "execution_count": 35,
      "outputs": [
        {
          "output_type": "stream",
          "text": [
            "[O] 檢查 Homework.txt 檔案字數是否符合 Hello World 字數\n"
          ],
          "name": "stdout"
        }
      ]
    }
  ]
}